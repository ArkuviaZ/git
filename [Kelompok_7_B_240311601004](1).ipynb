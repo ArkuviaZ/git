{
 "cells": [
  {
   "cell_type": "markdown",
   "id": "4b59eeb9",
   "metadata": {
    "id": "4b59eeb9"
   },
   "source": [
    "# TUGAS KELOMPOK"
   ]
  },
  {
   "cell_type": "markdown",
   "id": "4dT4OlLlgucw",
   "metadata": {
    "id": "4dT4OlLlgucw"
   },
   "source": [
    "**Kelompok 7**\n",
    "\n",
    "\n",
    "\n",
    "1. **Bachtiar Barra Yudha Romadhon  (240311601004)**\n",
    "2. **Koko Ali Firdaus Alfaridzi     (240311601919)**\n",
    "3. **Maulida Rahmawati              (240311605644)**\n"
   ]
  },
  {
   "cell_type": "markdown",
   "id": "33cca920",
   "metadata": {},
   "source": [
    "# Nomor 1"
   ]
  },
  {
   "cell_type": "code",
   "execution_count": null,
   "id": "b2d6cc03",
   "metadata": {
    "colab": {
     "base_uri": "https://localhost:8080/"
    },
    "id": "b2d6cc03",
    "outputId": "0ade1ac1-110d-4923-ec29-9d309f9a7e0b"
   },
   "outputs": [
    {
     "name": "stdout",
     "output_type": "stream",
     "text": [
      "Selamat datang di program penentuan letak titik koordinat!\n",
      "Silahkan masukkan koordinat pertama Anda!\n",
      "03\n",
      "Silahkan masukkan koordinat kedua Anda!\n",
      "056\n",
      "Mohon ditunggu yaa\n",
      "Titik  ( 3 ,  56 ) terletak di kuadran I\n"
     ]
    }
   ],
   "source": [
    " #tuliskan kode program implementasi nomer 1\n",
    "print(\"Selamat datang di program penentuan letak titik koordinat!\")\n",
    "print(\"Silakan masukkan koordinat pertama Anda!\")\n",
    "x = input(int( ))\n",
    "print(\"Silakan masukkan koordinat kedua Anda!\")\n",
    "y = input(int( ))\n",
    "print(\"Mohon ditunggu ya\")\n",
    "if int (x) > 0:\n",
    "  if int (y) > 0:\n",
    "    print(\"Titik \", \"(\", x, \", \", y, \")\", \"terletak di kuadran I\")\n",
    "  elif int (y) < 0:\n",
    "    print(\"Titik \", \"(\", x, \", \", y, \")\", \"terletak di kuadran IV\")\n",
    "  else:\n",
    "    print(\"Titik \", \"(\", x, \", \", y, \")\", \"terletak pada sumbu x\")\n",
    "elif int (x) < 0:\n",
    "   if int (y) > 0:\n",
    "    print(\"Titik \", \"(\", x, \", \", y, \")\", \"terletak di kuadran II\")\n",
    "   elif int (y) < 0:\n",
    "    print(\"Titik \", \"(\", x, \", \", y, \")\", \"terletak di kuadran III\")\n",
    "   else:\n",
    "    print(\"Titik \", \"(\", x, \", \", y, \")\", \"terletak pada sumbu x\")\n",
    "elif int (x) == 0:\n",
    "  if int (y) == 0:\n",
    "    print(\"Titik \", \"(\", x, \", \", y, \")\", \"merupakan titik asal\")\n",
    "  else:\n",
    "    print(\"Titik \", \"(\", x, \", \", y, \")\", \"terletak pada sumbu y\")\n"
   ]
  },
  {
   "cell_type": "markdown",
   "id": "251ed3aa",
   "metadata": {
    "id": "251ed3aa"
   },
   "source": [
    "# Penjelasan Nomor 1"
   ]
  },
  {
   "cell_type": "code",
   "execution_count": null,
   "id": "33df88b7",
   "metadata": {
    "id": "33df88b7"
   },
   "outputs": [],
   "source": [
    "#tuliskan deskripsi atau penjelasan kode program nomer 1"
   ]
  },
  {
   "cell_type": "markdown",
   "id": "52e346ec",
   "metadata": {
    "id": "52e346ec"
   },
   "source": [
    "# Nomor 2"
   ]
  },
  {
   "cell_type": "code",
   "execution_count": null,
   "id": "a0311c73",
   "metadata": {
    "colab": {
     "base_uri": "https://localhost:8080/"
    },
    "id": "a0311c73",
    "outputId": "241368a0-fbf2-4a1e-90ec-81baa8a70871"
   },
   "outputs": [
    {
     "name": "stdout",
     "output_type": "stream",
     "text": [
      "Selamat datang di program penentuan tahun kabisat!\n",
      "Silahkan masukkan tahun yang Anda inginkan!\n",
      "01804\n",
      "Tahun 1804 merupakan tahun kabisat\n"
     ]
    }
   ],
   "source": [
    " #tuliskan kode program implementasi nomer 2\n",
    "print(\"Selamat datang di program penentuan tahun kabisat!\")\n",
    "print(\"Silahkan masukkan tahun yang Anda inginkan!\")\n",
    "tahun=input(int())\n",
    "if int(tahun)%4 == 0:\n",
    "  if int(tahun)%100 ==0:\n",
    "    if int(tahun)%400 == 0:\n",
    "      print(\"Tahun\", tahun, \"merupakan tahun kabisat\")\n",
    "    else:\n",
    "      print(\"Tahun\", tahun, \"bukan tahun kabisat\")\n",
    "  elif int(tahun)%100 !=0:\n",
    "    print(\"Tahun\", tahun, \"merupakan tahun kabisat\")\n",
    "else:\n",
    "  print(\"Tahun\", tahun, \"bukan tahun kabisat\")"
   ]
  },
  {
   "cell_type": "markdown",
   "id": "03a87277",
   "metadata": {
    "id": "03a87277"
   },
   "source": [
    "# Penjelasan Nomor 2"
   ]
  },
  {
   "cell_type": "code",
   "execution_count": null,
   "id": "b6713e51",
   "metadata": {
    "id": "b6713e51"
   },
   "outputs": [],
   "source": [
    "#tuliskan deskripsi atau penjelasan kode program nomer 1"
   ]
  },
  {
   "cell_type": "code",
   "execution_count": null,
   "id": "98c9e6b2",
   "metadata": {
    "id": "98c9e6b2"
   },
   "outputs": [],
   "source": [
    "# Nomer selanjutnya dituliskan dengan susunan yang sama"
   ]
  },
  {
   "cell_type": "markdown",
   "id": "YOh2-T0PI0S4",
   "metadata": {
    "id": "YOh2-T0PI0S4"
   },
   "source": [
    "# Nomor 3"
   ]
  },
  {
   "cell_type": "code",
   "execution_count": 8,
   "id": "kF3bCxVFI5gI",
   "metadata": {
    "colab": {
     "base_uri": "https://localhost:8080/"
    },
    "id": "kF3bCxVFI5gI",
    "outputId": "3e16c2c4-8780-4160-dc49-75e73db9078f"
   },
   "outputs": [
    {
     "name": "stdout",
     "output_type": "stream",
     "text": [
      "02\n",
      "(1, 1)\n"
     ]
    }
   ],
   "source": [
    "#tuliskan kode program implementasi nomer 3\n",
    "f1=1\n",
    "f2=1\n",
    "N_suku_pertama= f1, f2\n",
    "jumlah_suku = int (2)\n",
    "N=input(int())\n",
    "if int (N)==1:\n",
    "  print(f1)\n",
    "else:\n",
    "  while jumlah_suku < int (N):\n",
    "    jumlah_suku=jumlah_suku + 1\n",
    "    fn=f1+f2\n",
    "    f1=f2\n",
    "    f2=fn\n",
    "    N_suku_pertama=N_suku_pertama, fn\n",
    "  print(N_suku_pertama)"
   ]
  },
  {
   "cell_type": "markdown",
   "id": "5551cac9",
   "metadata": {},
   "source": [
    "# Penjelasan Nomor 3"
   ]
  },
  {
   "cell_type": "code",
   "execution_count": null,
   "id": "nFwMwF8DZ2PX",
   "metadata": {
    "id": "nFwMwF8DZ2PX"
   },
   "outputs": [],
   "source": [
    "#tuliskan deskripsi atau penjelasan kode program nomer 3"
   ]
  },
  {
   "cell_type": "markdown",
   "id": "YO_wA3C2Z32z",
   "metadata": {
    "id": "YO_wA3C2Z32z"
   },
   "source": [
    "# Nomor 4"
   ]
  },
  {
   "cell_type": "code",
   "execution_count": 28,
   "id": "JTNofo1MZ5FF",
   "metadata": {
    "colab": {
     "base_uri": "https://localhost:8080/"
    },
    "id": "JTNofo1MZ5FF",
    "outputId": "324009d5-e651-432f-c94e-b2816a2f21c3"
   },
   "outputs": [
    {
     "name": "stdout",
     "output_type": "stream",
     "text": [
      "010\n",
      "Nilai pi = 3.04936163598207\n"
     ]
    }
   ],
   "source": [
    "#tuliskan kode program implementasi nomer 3\n",
    "n = input(int())\n",
    "total=1\n",
    "for i in range(2,int(n)+1):\n",
    "  total=total+1/i**2\n",
    "import math\n",
    "nilai_pi= math.sqrt(6*total)\n",
    "print(\"Nilai pi =\", nilai_pi)"
   ]
  },
  {
   "cell_type": "markdown",
   "id": "9e611153",
   "metadata": {},
   "source": [
    "# Penjelasan Nomor 4"
   ]
  },
  {
   "cell_type": "markdown",
   "id": "nSLARcRegZ_C",
   "metadata": {
    "id": "nSLARcRegZ_C"
   },
   "source": []
  }
 ],
 "metadata": {
  "colab": {
   "provenance": []
  },
  "kernelspec": {
   "display_name": "Python 3 (ipykernel)",
   "language": "python",
   "name": "python3"
  },
  "language_info": {
   "codemirror_mode": {
    "name": "ipython",
    "version": 3
   },
   "file_extension": ".py",
   "mimetype": "text/x-python",
   "name": "python",
   "nbconvert_exporter": "python",
   "pygments_lexer": "ipython3",
   "version": "3.11.5"
  }
 },
 "nbformat": 4,
 "nbformat_minor": 5
}
